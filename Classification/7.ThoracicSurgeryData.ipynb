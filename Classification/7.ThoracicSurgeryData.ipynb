{
 "cells": [
  {
   "cell_type": "markdown",
   "id": "534cfae6",
   "metadata": {},
   "source": [
    "# 7. Thoracic Surgery Data:\n",
    "\n",
    "In this notebook we evaluate each of the following classification models on *Thoracic Surgery Data* dataset.\n",
    "\n",
    "1. Logistic regression (for classification)\n",
    "2. Support vector classification\n",
    "3. Decision tree classification\n",
    "4. Random forest classification\n",
    "5. k-nearest neighbours classification\n",
    "6. AdaBoost classification\n",
    "7. Gaussian naive Bayes classification\n",
    "8. Neural network classification\n",
    "\n",
    "**Run the code below** to import required packages.\n"
   ]
  },
  {
   "cell_type": "code",
   "execution_count": null,
   "id": "4e37ced7",
   "metadata": {},
   "outputs": [],
   "source": [
    "\n",
    "\n"
   ]
  },
  {
   "cell_type": "markdown",
   "id": "6556c701",
   "metadata": {},
   "source": [
    "### Preprocessing the data  "
   ]
  },
  {
   "cell_type": "code",
   "execution_count": null,
   "id": "df9232cb",
   "metadata": {},
   "outputs": [],
   "source": []
  },
  {
   "cell_type": "markdown",
   "id": "2b4394db",
   "metadata": {},
   "source": [
    "### 1. Logistic regression"
   ]
  },
  {
   "cell_type": "code",
   "execution_count": null,
   "id": "d42f3877",
   "metadata": {},
   "outputs": [],
   "source": []
  },
  {
   "cell_type": "markdown",
   "id": "0feafb21",
   "metadata": {},
   "source": [
    "### 2. Support vector classification"
   ]
  },
  {
   "cell_type": "code",
   "execution_count": null,
   "id": "2195759a",
   "metadata": {},
   "outputs": [],
   "source": []
  },
  {
   "cell_type": "markdown",
   "id": "73358e33",
   "metadata": {},
   "source": [
    "### 3. Decision tree classification"
   ]
  },
  {
   "cell_type": "code",
   "execution_count": null,
   "id": "1648a6af",
   "metadata": {},
   "outputs": [],
   "source": []
  },
  {
   "cell_type": "markdown",
   "id": "6bb6883c",
   "metadata": {},
   "source": [
    "### 4. Random forest classification"
   ]
  },
  {
   "cell_type": "code",
   "execution_count": null,
   "id": "18502613",
   "metadata": {},
   "outputs": [],
   "source": []
  },
  {
   "cell_type": "markdown",
   "id": "8b8cff05",
   "metadata": {},
   "source": [
    "### 5. k-nearest neighbours classification"
   ]
  },
  {
   "cell_type": "code",
   "execution_count": null,
   "id": "28dd3126",
   "metadata": {},
   "outputs": [],
   "source": []
  },
  {
   "cell_type": "markdown",
   "id": "ec0f6687",
   "metadata": {},
   "source": [
    "### 6. AdaBoost classification"
   ]
  },
  {
   "cell_type": "code",
   "execution_count": null,
   "id": "2ecb349b",
   "metadata": {},
   "outputs": [],
   "source": []
  },
  {
   "cell_type": "markdown",
   "id": "72e62b3f",
   "metadata": {},
   "source": [
    "### 7. Gaussian naive Bayes classification"
   ]
  },
  {
   "cell_type": "code",
   "execution_count": null,
   "id": "1f1ffae2",
   "metadata": {},
   "outputs": [],
   "source": []
  },
  {
   "cell_type": "markdown",
   "id": "4056d721",
   "metadata": {},
   "source": [
    "### 8. Neural network classification"
   ]
  },
  {
   "cell_type": "code",
   "execution_count": null,
   "id": "96473c0d",
   "metadata": {},
   "outputs": [],
   "source": []
  }
 ],
 "metadata": {
  "kernelspec": {
   "display_name": "Python 3 (ipykernel)",
   "language": "python",
   "name": "python3"
  },
  "language_info": {
   "codemirror_mode": {
    "name": "ipython",
    "version": 3
   },
   "file_extension": ".py",
   "mimetype": "text/x-python",
   "name": "python",
   "nbconvert_exporter": "python",
   "pygments_lexer": "ipython3",
   "version": "3.9.5"
  }
 },
 "nbformat": 4,
 "nbformat_minor": 5
}
