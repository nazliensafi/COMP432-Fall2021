{
 "cells": [
  {
   "cell_type": "markdown",
   "id": "a0b9121b",
   "metadata": {},
   "source": [
    "# 1. Default of credit card clients:\n",
    "\n",
    "In this notebook we evaluate each of the following classification models on *default of credit card clients* dataset.\n",
    "\n",
    "1. Logistic regression (for classification)\n",
    "2. Support vector classification\n",
    "3. Decision tree classification\n",
    "4. Random forest classification\n",
    "5. k-nearest neighbours classification\n",
    "6. AdaBoost classification\n",
    "7. Gaussian naive Bayes classification\n",
    "8. Neural network classification\n",
    "\n",
    "**Run the code below** to import required packages.\n"
   ]
  },
  {
   "cell_type": "code",
   "execution_count": null,
   "id": "4e37ced7",
   "metadata": {},
   "outputs": [],
   "source": [
    "\n",
    "\n"
   ]
  },
  {
   "cell_type": "markdown",
   "id": "bb9f936c",
   "metadata": {},
   "source": [
    "### Preprocessing the data  "
   ]
  },
  {
   "cell_type": "code",
   "execution_count": null,
   "id": "576b339e",
   "metadata": {},
   "outputs": [],
   "source": []
  },
  {
   "cell_type": "markdown",
   "id": "2704d721",
   "metadata": {},
   "source": [
    "### 1. Logistic regression"
   ]
  },
  {
   "cell_type": "code",
   "execution_count": null,
   "id": "2ecaac07",
   "metadata": {},
   "outputs": [],
   "source": []
  },
  {
   "cell_type": "markdown",
   "id": "5279269d",
   "metadata": {},
   "source": [
    "### 2. Support vector classification"
   ]
  },
  {
   "cell_type": "code",
   "execution_count": null,
   "id": "15b766c3",
   "metadata": {},
   "outputs": [],
   "source": []
  },
  {
   "cell_type": "markdown",
   "id": "4409f9a8",
   "metadata": {},
   "source": [
    "### 3. Decision tree classification"
   ]
  },
  {
   "cell_type": "code",
   "execution_count": null,
   "id": "9e65dedb",
   "metadata": {},
   "outputs": [],
   "source": []
  },
  {
   "cell_type": "markdown",
   "id": "8b1dffe6",
   "metadata": {},
   "source": [
    "### 4. Random forest classification"
   ]
  },
  {
   "cell_type": "code",
   "execution_count": null,
   "id": "58f34d3e",
   "metadata": {},
   "outputs": [],
   "source": []
  },
  {
   "cell_type": "markdown",
   "id": "31f642ef",
   "metadata": {},
   "source": [
    "### 5. k-nearest neighbours classification"
   ]
  },
  {
   "cell_type": "code",
   "execution_count": null,
   "id": "3f16f082",
   "metadata": {},
   "outputs": [],
   "source": []
  },
  {
   "cell_type": "markdown",
   "id": "bcfdbf18",
   "metadata": {},
   "source": [
    "### 6. AdaBoost classification"
   ]
  },
  {
   "cell_type": "code",
   "execution_count": null,
   "id": "3585be81",
   "metadata": {},
   "outputs": [],
   "source": []
  },
  {
   "cell_type": "markdown",
   "id": "a96139fe",
   "metadata": {},
   "source": [
    "### 7. Gaussian naive Bayes classification"
   ]
  },
  {
   "cell_type": "code",
   "execution_count": null,
   "id": "9170d0ff",
   "metadata": {},
   "outputs": [],
   "source": []
  },
  {
   "cell_type": "markdown",
   "id": "e265aeb3",
   "metadata": {},
   "source": [
    "### 8. Neural network classification"
   ]
  },
  {
   "cell_type": "code",
   "execution_count": null,
   "id": "936aee73",
   "metadata": {},
   "outputs": [],
   "source": []
  }
 ],
 "metadata": {
  "kernelspec": {
   "display_name": "Python 3 (ipykernel)",
   "language": "python",
   "name": "python3"
  },
  "language_info": {
   "codemirror_mode": {
    "name": "ipython",
    "version": 3
   },
   "file_extension": ".py",
   "mimetype": "text/x-python",
   "name": "python",
   "nbconvert_exporter": "python",
   "pygments_lexer": "ipython3",
   "version": "3.9.5"
  }
 },
 "nbformat": 4,
 "nbformat_minor": 5
}
