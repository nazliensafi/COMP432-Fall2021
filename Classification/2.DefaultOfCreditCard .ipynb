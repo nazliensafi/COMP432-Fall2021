{
 "cells": [
  {
   "cell_type": "markdown",
   "id": "ab893246",
   "metadata": {},
   "source": [
    "# 2. Default of credit card clients:\n",
    "\n",
    "In this notebook we evaluate each of the following classification models on *default of credit card clients* dataset.\n",
    "\n",
    "1. Logistic regression (for classification)\n",
    "2. Support vector classification\n",
    "3. Decision tree classification\n",
    "4. Random forest classification\n",
    "5. k-nearest neighbours classification\n",
    "6. AdaBoost classification\n",
    "7. Gaussian naive Bayes classification\n",
    "8. Neural network classification\n",
    "\n",
    "**Run the code below** to import required packages.\n"
   ]
  },
  {
   "cell_type": "code",
   "execution_count": null,
   "id": "4e37ced7",
   "metadata": {},
   "outputs": [],
   "source": [
    "\n",
    "\n"
   ]
  },
  {
   "cell_type": "markdown",
   "id": "bc629f7e",
   "metadata": {},
   "source": [
    "### Preprocessing the data  "
   ]
  },
  {
   "cell_type": "code",
   "execution_count": null,
   "id": "b219f489",
   "metadata": {},
   "outputs": [],
   "source": []
  },
  {
   "cell_type": "markdown",
   "id": "9dadf3d6",
   "metadata": {},
   "source": [
    "### 1. Logistic regression"
   ]
  },
  {
   "cell_type": "code",
   "execution_count": null,
   "id": "94954ad7",
   "metadata": {},
   "outputs": [],
   "source": []
  },
  {
   "cell_type": "markdown",
   "id": "41e110f1",
   "metadata": {},
   "source": [
    "### 2. Support vector classification"
   ]
  },
  {
   "cell_type": "code",
   "execution_count": null,
   "id": "b5de8f61",
   "metadata": {},
   "outputs": [],
   "source": []
  },
  {
   "cell_type": "markdown",
   "id": "ffabf62d",
   "metadata": {},
   "source": [
    "### 3. Decision tree classification"
   ]
  },
  {
   "cell_type": "code",
   "execution_count": null,
   "id": "d9ab67fb",
   "metadata": {},
   "outputs": [],
   "source": []
  },
  {
   "cell_type": "markdown",
   "id": "2ef835a5",
   "metadata": {},
   "source": [
    "### 4. Random forest classification"
   ]
  },
  {
   "cell_type": "code",
   "execution_count": null,
   "id": "78c028cf",
   "metadata": {},
   "outputs": [],
   "source": []
  },
  {
   "cell_type": "markdown",
   "id": "e93bb56f",
   "metadata": {},
   "source": [
    "### 5. k-nearest neighbours classification"
   ]
  },
  {
   "cell_type": "code",
   "execution_count": null,
   "id": "9ead13dd",
   "metadata": {},
   "outputs": [],
   "source": []
  },
  {
   "cell_type": "markdown",
   "id": "49e30178",
   "metadata": {},
   "source": [
    "### 6. AdaBoost classification"
   ]
  },
  {
   "cell_type": "code",
   "execution_count": null,
   "id": "bc3bdffc",
   "metadata": {},
   "outputs": [],
   "source": []
  },
  {
   "cell_type": "markdown",
   "id": "28ae1a7c",
   "metadata": {},
   "source": [
    "### 7. Gaussian naive Bayes classification"
   ]
  },
  {
   "cell_type": "code",
   "execution_count": null,
   "id": "2b3c8569",
   "metadata": {},
   "outputs": [],
   "source": []
  },
  {
   "cell_type": "markdown",
   "id": "77d09889",
   "metadata": {},
   "source": [
    "### 8. Neural network classification"
   ]
  },
  {
   "cell_type": "code",
   "execution_count": null,
   "id": "ebfeee75",
   "metadata": {},
   "outputs": [],
   "source": []
  }
 ],
 "metadata": {
  "kernelspec": {
   "display_name": "Python 3 (ipykernel)",
   "language": "python",
   "name": "python3"
  },
  "language_info": {
   "codemirror_mode": {
    "name": "ipython",
    "version": 3
   },
   "file_extension": ".py",
   "mimetype": "text/x-python",
   "name": "python",
   "nbconvert_exporter": "python",
   "pygments_lexer": "ipython3",
   "version": "3.9.5"
  }
 },
 "nbformat": 4,
 "nbformat_minor": 5
}
