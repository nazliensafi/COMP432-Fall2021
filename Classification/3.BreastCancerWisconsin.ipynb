{
 "cells": [
  {
   "cell_type": "markdown",
   "id": "ef013c40",
   "metadata": {},
   "source": [
    "# 3. Breast Cancer Wisconsin:\n",
    "\n",
    "In this notebook we evaluate each of the following classification models on *Breast Cancer Wisconsin* dataset.\n",
    "\n",
    "1. Logistic regression (for classification)\n",
    "2. Support vector classification\n",
    "3. Decision tree classification\n",
    "4. Random forest classification\n",
    "5. k-nearest neighbours classification\n",
    "6. AdaBoost classification\n",
    "7. Gaussian naive Bayes classification\n",
    "8. Neural network classification\n",
    "\n",
    "**Run the code below** to import required packages.\n"
   ]
  },
  {
   "cell_type": "code",
   "execution_count": null,
   "id": "4e37ced7",
   "metadata": {},
   "outputs": [],
   "source": [
    "\n",
    "\n"
   ]
  },
  {
   "cell_type": "markdown",
   "id": "ce91a208",
   "metadata": {},
   "source": [
    "### Preprocessing the data  "
   ]
  },
  {
   "cell_type": "code",
   "execution_count": null,
   "id": "07d27688",
   "metadata": {},
   "outputs": [],
   "source": []
  },
  {
   "cell_type": "markdown",
   "id": "352c09cb",
   "metadata": {},
   "source": [
    "### 1. Logistic regression"
   ]
  },
  {
   "cell_type": "code",
   "execution_count": null,
   "id": "7f69e2c1",
   "metadata": {},
   "outputs": [],
   "source": []
  },
  {
   "cell_type": "markdown",
   "id": "5c05b517",
   "metadata": {},
   "source": [
    "### 2. Support vector classification"
   ]
  },
  {
   "cell_type": "code",
   "execution_count": null,
   "id": "ffed9c9b",
   "metadata": {},
   "outputs": [],
   "source": []
  },
  {
   "cell_type": "markdown",
   "id": "d96ca451",
   "metadata": {},
   "source": [
    "### 3. Decision tree classification"
   ]
  },
  {
   "cell_type": "code",
   "execution_count": null,
   "id": "bcb316fa",
   "metadata": {},
   "outputs": [],
   "source": []
  },
  {
   "cell_type": "markdown",
   "id": "94b25356",
   "metadata": {},
   "source": [
    "### 4. Random forest classification"
   ]
  },
  {
   "cell_type": "code",
   "execution_count": null,
   "id": "ae5f900d",
   "metadata": {},
   "outputs": [],
   "source": []
  },
  {
   "cell_type": "markdown",
   "id": "943f2ef5",
   "metadata": {},
   "source": [
    "### 5. k-nearest neighbours classification"
   ]
  },
  {
   "cell_type": "code",
   "execution_count": null,
   "id": "fac439a8",
   "metadata": {},
   "outputs": [],
   "source": []
  },
  {
   "cell_type": "markdown",
   "id": "21714797",
   "metadata": {},
   "source": [
    "### 6. AdaBoost classification"
   ]
  },
  {
   "cell_type": "code",
   "execution_count": null,
   "id": "da22043f",
   "metadata": {},
   "outputs": [],
   "source": []
  },
  {
   "cell_type": "markdown",
   "id": "56e29584",
   "metadata": {},
   "source": [
    "### 7. Gaussian naive Bayes classification"
   ]
  },
  {
   "cell_type": "code",
   "execution_count": null,
   "id": "5117d357",
   "metadata": {},
   "outputs": [],
   "source": []
  },
  {
   "cell_type": "markdown",
   "id": "c053f077",
   "metadata": {},
   "source": [
    "### 8. Neural network classification"
   ]
  },
  {
   "cell_type": "code",
   "execution_count": null,
   "id": "1753e701",
   "metadata": {},
   "outputs": [],
   "source": []
  }
 ],
 "metadata": {
  "kernelspec": {
   "display_name": "Python 3 (ipykernel)",
   "language": "python",
   "name": "python3"
  },
  "language_info": {
   "codemirror_mode": {
    "name": "ipython",
    "version": 3
   },
   "file_extension": ".py",
   "mimetype": "text/x-python",
   "name": "python",
   "nbconvert_exporter": "python",
   "pygments_lexer": "ipython3",
   "version": "3.9.5"
  }
 },
 "nbformat": 4,
 "nbformat_minor": 5
}
